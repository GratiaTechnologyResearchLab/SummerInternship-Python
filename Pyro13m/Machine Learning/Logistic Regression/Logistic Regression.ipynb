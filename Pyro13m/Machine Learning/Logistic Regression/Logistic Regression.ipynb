{
 "cells": [
  {
   "cell_type": "code",
   "execution_count": 79,
   "metadata": {},
   "outputs": [
    {
     "name": "stdout",
     "output_type": "stream",
     "text": [
      "Model Prediction: \n",
      " [0 0 0 0 0 0 0 1 0 1 0 0 0 0 0 0 0 0 1 0 0 1 0 1 0 1 0 0 0 0 0 0 1 0 0 0 0\n",
      " 0 0 1 0 0 0 0 1 0 0 1 0 1 1 0 0 0 1 0 0 0 0 0 0 1 0 0 0 1 0 0 0 0 1 0 0 0\n",
      " 0 0 1 0 1 1 1 1 0 0 1 1 0 1 0 0 0 1 0 0 0 0 0 0 1 1] \n",
      "\n",
      "*********************************************\n",
      "\n",
      "Accuracy:  0.89 \n",
      "\n",
      "*********************************************\n",
      "\n",
      "Report: \n",
      "\n",
      "               precision    recall  f1-score   support\n",
      "\n",
      "NOT PURCHASED       0.89      0.96      0.92        68\n",
      "    PURCHASED       0.89      0.75      0.81        32\n",
      "\n",
      "  avg / total       0.89      0.89      0.89       100\n",
      "\n"
     ]
    },
    {
     "name": "stderr",
     "output_type": "stream",
     "text": [
      "/home/priyom/.local/lib/python3.5/site-packages/sklearn/utils/validation.py:475: DataConversionWarning: Data with input dtype int64 was converted to float64 by StandardScaler.\n",
      "  warnings.warn(msg, DataConversionWarning)\n"
     ]
    }
   ],
   "source": [
    "#IMPORTING THE REQUIRED LIBRARIES\n",
    "\n",
    "import numpy as np\n",
    "import matplotlib.pyplot as plt\n",
    "import pandas as pd\n",
    "\n",
    "#IMPORTING THE DATASET\n",
    "\n",
    "dataset=pd.read_csv('Social_Network_Ads.csv')\n",
    "\n",
    "#IDENTIFYING SEPARATING THE DEPENDENT AND THE INDEPENDENT VARIABLE(COLOUMN)\n",
    "\n",
    "x=dataset.iloc[:,2:4].values\n",
    "y=dataset.iloc[:,4].values\n",
    "\n",
    "#SEPARATING THE TRAINING AND THE TEST SET\n",
    "\n",
    "from sklearn.model_selection import train_test_split\n",
    "x_train,x_test,y_train,y_test=train_test_split(x,y,test_size=0.25,random_state=0)\n",
    "\n",
    "#FEATURE SCALING\n",
    "\n",
    "from sklearn.preprocessing import StandardScaler\n",
    "\n",
    "sc_X=StandardScaler()\n",
    "\n",
    "x_train=sc_X.fit_transform(x_train)\n",
    "x_test=sc_X.transform(x_test)\n",
    "\n",
    "#FITTING THE LOGISTIC REGRESSION ON THE TRAINING SET\n",
    "\n",
    "from sklearn.linear_model import LogisticRegression\n",
    "\n",
    "classifier=LogisticRegression(random_state=0)\n",
    "classifier.fit(x_train,y_train)\n",
    "\n",
    "#THE PREDICTED VALUE OF THE MODEL\n",
    "\n",
    "print(\"Model Prediction: \\n\", classifier.predict(x_test),\"\\n\")\n",
    "\n",
    "print(\"*********************************************\")\n",
    "\n",
    "#THE ACCURACY OF THE MODEL\n",
    "\n",
    "from sklearn.metrics import accuracy_score\n",
    "print(\"\\nAccuracy: \",accuracy_score(y_test,y_pred),\"\\n\")\n",
    "\n",
    "\n",
    "print(\"*********************************************\")\n",
    "#THE CLASSIFICATION REPORT OF THE MODEL\n",
    "\n",
    "print(\"\\nReport: \\n\")\n",
    "from sklearn.metrics import classification_report\n",
    "print(classification_report(y_test,classifier.predict(x_test), target_names=['NOT PURCHASED','PURCHASED']))"
   ]
  },
  {
   "cell_type": "code",
   "execution_count": null,
   "metadata": {},
   "outputs": [],
   "source": []
  }
 ],
 "metadata": {
  "kernelspec": {
   "display_name": "Python 3",
   "language": "python",
   "name": "python3"
  },
  "language_info": {
   "codemirror_mode": {
    "name": "ipython",
    "version": 3
   },
   "file_extension": ".py",
   "mimetype": "text/x-python",
   "name": "python",
   "nbconvert_exporter": "python",
   "pygments_lexer": "ipython3",
   "version": "3.5.2"
  }
 },
 "nbformat": 4,
 "nbformat_minor": 2
}
