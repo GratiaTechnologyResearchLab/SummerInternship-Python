{
 "cells": [
  {
   "cell_type": "code",
   "execution_count": 3,
   "metadata": {},
   "outputs": [
    {
     "data": {
      "text/plain": [
       "<Figure size 640x480 with 1 Axes>"
      ]
     },
     "metadata": {},
     "output_type": "display_data"
    }
   ],
   "source": [
    "import h5py\n",
    "import numpy as np\n",
    "# load h5py file\n",
    "\n",
    "def load_h5py(filename):\n",
    "    with h5py.File(filename, 'r') as hf:\n",
    "        global X,Y\n",
    "        X= hf['x'][:]\n",
    "        Y= hf['y'][:]\n",
    "        return X,Y\n",
    "\n",
    "load_h5py('data_2.h5')\n",
    "\n",
    "#FIT THE CLASSIFIER AND TUNE IT USING 'gamma' FOR THE BEST FIT.(YOU CAN USE OTHER ATTRIBUTES TOO)\n",
    "\n",
    "from sklearn.svm import SVC\n",
    "classifier=SVC(kernel = 'rbf',gamma=1,random_state=0)\n",
    "classifier.fit(X,Y)\n",
    "\n",
    "import matplotlib.pyplot as plt\n",
    "from matplotlib.colors import ListedColormap\n",
    "\n",
    "x_set,y_set=X,Y\n",
    "\n",
    "x1,x2=np.meshgrid(np.arange(start=x_set[:].min()-1,stop=x_set[:].max()+1,step=0.01),np.arange(start=x_set[:].min()-1,stop=x_set[:].max()+1,step=0.01))\n",
    "\n",
    "\n",
    "plt.contourf(x1,x2,classifier.predict(np.array([x1.ravel(),x2.ravel()]).T).reshape(x1.shape),alpha=0.75,cmap=ListedColormap(('red','green')))\n",
    "\n",
    "\n",
    "plt.xlim(x1.min(),x1.max())\n",
    "plt.ylim(x2.min(),x2.max())\n",
    "\n",
    "for i,j in enumerate(np.unique(y_set)):\n",
    "    plt.scatter(x_set[y_set==j,0],x_set[y_set==j,1],c=ListedColormap(('white','black'))(i),label=j)\n",
    "\n",
    "plt.title('***SVM MODEL-2***')\n",
    "plt.xlabel('x-parameter')\n",
    "plt.ylabel('y-parameter')\n",
    "plt.show()\n"
   ]
  },
  {
   "cell_type": "code",
   "execution_count": null,
   "metadata": {},
   "outputs": [],
   "source": []
  },
  {
   "cell_type": "code",
   "execution_count": null,
   "metadata": {},
   "outputs": [],
   "source": []
  }
 ],
 "metadata": {
  "kernelspec": {
   "display_name": "Python 3",
   "language": "python",
   "name": "python3"
  },
  "language_info": {
   "codemirror_mode": {
    "name": "ipython",
    "version": 3
   },
   "file_extension": ".py",
   "mimetype": "text/x-python",
   "name": "python",
   "nbconvert_exporter": "python",
   "pygments_lexer": "ipython3",
   "version": "3.5.2"
  }
 },
 "nbformat": 4,
 "nbformat_minor": 2
}
