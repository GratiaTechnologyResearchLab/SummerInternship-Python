{
 "cells": [
  {
   "cell_type": "code",
   "execution_count": 30,
   "metadata": {},
   "outputs": [
    {
     "data": {
      "text/plain": [
       "0.8462717058222676"
      ]
     },
     "execution_count": 30,
     "metadata": {},
     "output_type": "execute_result"
    }
   ],
   "source": [
    "import numpy as np # linear algebra\n",
    "import pandas as pd # data processing, CSV file I/O (e.g. pd.read_csv)\n",
    "from subprocess import check_output\n",
    "#print(check_output([\"ls\", \"/datas\"]).decode(\"utf8\"))\n",
    "\n",
    "#READING INPUT\n",
    "training_data = pd.read_csv(\"train.csv\")\n",
    "testing_data=pd.read_csv(\"test.csv\")\n",
    "\n",
    "training_data.head()\n",
    "\n",
    "training_data['author_num'] = training_data.author.map({'EAP':0, 'HPL':1, 'MWS':2})\n",
    "X = training_data['text']\n",
    "y = training_data['author_num']\n",
    "\n",
    "\n",
    "per=int(float(0.9)* len(X))\n",
    "X_train=X[:per]\n",
    "X_test=X[per:]\n",
    "y_train=y[:per]\n",
    "y_test=y[per:]\n",
    "\n",
    "from sklearn.feature_extraction.text import CountVectorizer\n",
    "from sklearn.naive_bayes import MultinomialNB\n",
    "\n",
    "\n",
    "vect = CountVectorizer(lowercase=False, token_pattern=r'\\w+|\\,')\n",
    "X_cv=vect.fit_transform(X)\n",
    "X_train_cv = vect.transform(X_train)\n",
    "X_test_cv = vect.transform(X_test)\n",
    "\n",
    "clf=MultinomialNB()\n",
    "clf.fit(X_train_cv, y_train)\n",
    "clf.score(X_test_cv, y_test)\n",
    "\n",
    "\n",
    "\n"
   ]
  },
  {
   "cell_type": "code",
   "execution_count": null,
   "metadata": {},
   "outputs": [],
   "source": []
  }
 ],
 "metadata": {
  "kernelspec": {
   "display_name": "Python 3",
   "language": "python",
   "name": "python3"
  },
  "language_info": {
   "codemirror_mode": {
    "name": "ipython",
    "version": 3
   },
   "file_extension": ".py",
   "mimetype": "text/x-python",
   "name": "python",
   "nbconvert_exporter": "python",
   "pygments_lexer": "ipython3",
   "version": "3.5.2"
  }
 },
 "nbformat": 4,
 "nbformat_minor": 2
}
