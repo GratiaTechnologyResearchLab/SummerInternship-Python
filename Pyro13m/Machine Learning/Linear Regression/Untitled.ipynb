{
 "cells": [
  {
   "cell_type": "code",
   "execution_count": 65,
   "metadata": {},
   "outputs": [],
   "source": [
    "#IMPORTING THE LIBRARIES\n",
    "\n",
    "import numpy as np\n",
    "import pandas as pd\n",
    "import matplotlib.pyplot as plt\n",
    "from scipy import stats"
   ]
  },
  {
   "cell_type": "code",
   "execution_count": 66,
   "metadata": {},
   "outputs": [],
   "source": [
    "#IMPORT THE TRAINING DATASET\n",
    "\n",
    "trainset=pd.read_csv('train.csv')\n",
    "\n",
    "#CHECK FOR THE OUTLIERS AND REMOVE IT FROM THE DATASET\n",
    "\n",
    "trainset=trainset[(np.abs(stats.zscore(trainset))<3).all(axis=1)]\n",
    "\n",
    "#SEPARATE THE DEPENDENT AND THE INDEPENDENT VARIABLE(COLOUMN)\n",
    "\n",
    "xtrain=trainset.iloc[:,:-1].values\n",
    "ytrain=trainset.iloc[:,1].values\n",
    "\n",
    "\n"
   ]
  },
  {
   "cell_type": "code",
   "execution_count": 67,
   "metadata": {},
   "outputs": [],
   "source": [
    "#IMPORT THE TEST DATASET\n",
    "\n",
    "testset=pd.read_csv('test.csv')\n",
    "\n",
    "#CHECK FOR THE OUTLIERS AND REMOVE IT FROM THE DATASET\n",
    "\n",
    "testset=testset[(np.abs(stats.zscore(testset))<3).all(axis=1)]\n",
    "\n",
    "#SEPARATE THE DEPENDENT AND THE INDEPENDENT VARIABLE(COLOUMN)\n",
    "\n",
    "xtest=testset.iloc[:,:-1].values\n",
    "ytest=testset.iloc[:,1].values\n",
    "\n",
    "\n"
   ]
  },
  {
   "cell_type": "code",
   "execution_count": 68,
   "metadata": {},
   "outputs": [
    {
     "name": "stderr",
     "output_type": "stream",
     "text": [
      "/home/priyom/.local/lib/python3.5/site-packages/sklearn/utils/validation.py:475: DataConversionWarning: Data with input dtype int64 was converted to float64 by StandardScaler.\n",
      "  warnings.warn(msg, DataConversionWarning)\n"
     ]
    }
   ],
   "source": [
    "#FEATURE SCALING\n",
    "\n",
    "from sklearn.preprocessing import StandardScaler\n",
    "\n",
    "sc_X=StandardScaler()\n",
    "xtrain=sc_X.fit_transform(xtrain)\n",
    "xtest=sc_X.fit_transform(xtest)"
   ]
  },
  {
   "cell_type": "code",
   "execution_count": 69,
   "metadata": {},
   "outputs": [
    {
     "data": {
      "text/plain": [
       "LinearRegression(copy_X=True, fit_intercept=True, n_jobs=1, normalize=False)"
      ]
     },
     "execution_count": 69,
     "metadata": {},
     "output_type": "execute_result"
    }
   ],
   "source": [
    "#FIT THE LINEAR REGRESSOR TO THE TRAINING SET\n",
    "\n",
    "from sklearn.linear_model import LinearRegression\n",
    "\n",
    "regressor=LinearRegression()\n",
    "regressor.fit(xtrain,ytrain)"
   ]
  },
  {
   "cell_type": "code",
   "execution_count": 70,
   "metadata": {},
   "outputs": [
    {
     "data": {
      "image/png": "[encoded data removed]",
      "text/plain": [
       "<Figure size 432x288 with 1 Axes>"
      ]
     },
     "metadata": {},
     "output_type": "display_data"
    }
   ],
   "source": [
    "#PLOT AND COMPARE YOUR TRAINING SET WITH THE TEST SET\n",
    "\n",
    "plt.scatter(xtest,ytest, color='red')\n",
    "plt.plot(xtest,regressor.predict(xtest), color='blue')\n",
    "plt.xlabel('X-Values')\n",
    "plt.ylabel('Y-Values')\n",
    "plt.title('***Linear Regression Model-I***')\n",
    "plt.show()"
   ]
  },
  {
   "cell_type": "code",
   "execution_count": null,
   "metadata": {},
   "outputs": [],
   "source": [
    "\n",
    "\n"
   ]
  },
  {
   "cell_type": "code",
   "execution_count": null,
   "metadata": {},
   "outputs": [],
   "source": []
  },
  {
   "cell_type": "code",
   "execution_count": null,
   "metadata": {},
   "outputs": [],
   "source": []
  },
  {
   "cell_type": "code",
   "execution_count": null,
   "metadata": {},
   "outputs": [],
   "source": []
  }
 ],
 "metadata": {
  "kernelspec": {
   "display_name": "Python 3",
   "language": "python",
   "name": "python3"
  },
  "language_info": {
   "codemirror_mode": {
    "name": "ipython",
    "version": 3
   },
   "file_extension": ".py",
   "mimetype": "text/x-python",
   "name": "python",
   "nbconvert_exporter": "python",
   "pygments_lexer": "ipython3",
   "version": "3.5.2"
  }
 },
 "nbformat": 4,
 "nbformat_minor": 2
}
