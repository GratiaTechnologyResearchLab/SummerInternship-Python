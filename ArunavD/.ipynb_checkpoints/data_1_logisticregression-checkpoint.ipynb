{
 "cells": [
  {
   "cell_type": "code",
   "execution_count": 1,
   "metadata": {},
   "outputs": [],
   "source": [
    " #Importing the libraries\n",
    "import numpy as np\n",
    "import matplotlib.pyplot as plt\n",
    "import pandas as pd"
   ]
  },
  {
   "cell_type": "code",
   "execution_count": 24,
   "metadata": {},
   "outputs": [
    {
     "name": "stdout",
     "output_type": "stream",
     "text": [
      "[[ 0.35859223  0.37529616]\n",
      " [ 0.32275235  0.40774817]\n",
      " [ 0.99445614 -0.26094717]\n",
      " [-1.01643014 -0.12624261]\n",
      " [-0.46941238 -0.21395086]\n",
      " [ 0.33155171 -0.95444538]\n",
      " [-0.42471316 -0.14629167]\n",
      " [-0.17994612  0.49267755]\n",
      " [ 0.07372895 -0.39863282]\n",
      " [-0.95822856  0.0574927 ]\n",
      " [ 0.2543021   1.00942724]\n",
      " [-0.13322835 -0.55256854]\n",
      " [-0.26439566 -0.44527317]\n",
      " [-0.96201584  0.57999653]\n",
      " [-0.50257413  0.25895763]\n",
      " [ 0.48035082 -0.84072666]\n",
      " [-0.05575554  1.01606014]\n",
      " [-0.26540159 -0.92180436]\n",
      " [-0.8868694  -0.39757679]\n",
      " [-0.41106597  0.15132401]\n",
      " [ 0.04608615 -0.54046144]\n",
      " [-0.79458038 -0.40998174]\n",
      " [ 0.40566888 -0.08179639]\n",
      " [-1.11946525 -0.01259526]\n",
      " [ 0.08042553 -0.99057341]\n",
      " [ 0.49791459  0.09475746]\n",
      " [ 0.33939388 -0.31841607]\n",
      " [-0.52696034  0.24922817]\n",
      " [ 0.30125445 -0.37120985]\n",
      " [-0.47096119  0.99491756]\n",
      " [-0.77513278  0.64445456]\n",
      " [-0.30883772  0.28724032]\n",
      " [-0.1202391  -0.51206441]\n",
      " [ 0.87501955 -0.61036745]\n",
      " [ 0.31941501  0.38567383]\n",
      " [-0.72734696 -0.71392304]\n",
      " [-0.15058274  0.5032515 ]\n",
      " [ 0.61993558  0.8233726 ]\n",
      " [-0.90337119 -0.25258425]\n",
      " [ 0.50722806  0.16479632]\n",
      " [-0.23520793  0.34936167]\n",
      " [-0.15411524 -1.04233942]\n",
      " [-0.05480925  0.55266649]\n",
      " [-0.43810094  0.0464346 ]\n",
      " [ 0.37659475  0.19967446]\n",
      " [ 0.51275146 -0.06714908]\n",
      " [-0.20238672  0.45243979]\n",
      " [ 0.49051305  0.89170127]\n",
      " [-0.43622255 -0.9755851 ]\n",
      " [ 0.76802487 -0.64303881]\n",
      " [-0.03408311  0.5103345 ]\n",
      " [-0.70363111  0.73456238]\n",
      " [ 0.46109564 -0.35412594]\n",
      " [-0.49098309 -0.28846519]\n",
      " [ 0.80044856  0.58515756]\n",
      " [ 0.53461182 -0.86366279]\n",
      " [ 0.96919421  0.25405189]\n",
      " [-0.39960975 -0.39060924]\n",
      " [ 0.10251286 -0.45664894]\n",
      " [ 0.2203364  -0.47993067]\n",
      " [-0.18828145  0.42714227]\n",
      " [ 0.97882036 -0.39532024]\n",
      " [ 0.91471572 -0.06464071]\n",
      " [ 0.19932005 -0.43377381]\n",
      " [ 0.10129809  0.45398083]\n",
      " [-0.48486174 -0.03213762]\n",
      " [ 0.45160359  0.91980662]\n",
      " [ 0.49420289 -0.10622787]\n",
      " [-1.00578093  0.2568224 ]\n",
      " [-0.62544862 -0.8955032 ]\n",
      " [ 0.61570187 -0.83667148]\n",
      " [ 0.18256115  0.41781569]\n",
      " [ 0.91173526  0.48150924]\n",
      " [-0.44447577 -0.05203933]\n",
      " [-0.25974594 -0.37016469]\n",
      " [-0.78603354 -0.6646289 ]\n",
      " [-0.21818153 -0.94462479]\n",
      " [ 0.49167585  0.20374862]\n",
      " [ 0.94289228  0.05159563]\n",
      " [ 0.15080905  0.48175643]\n",
      " [-0.29487907 -0.25329306]\n",
      " [ 0.07781344  1.01588768]\n",
      " [ 1.04417719 -0.12973032]\n",
      " [ 0.93090596 -0.48426864]\n",
      " [ 0.51829134 -0.31206625]\n",
      " [ 0.55180734  0.1302538 ]\n",
      " [ 0.13971737  0.9937691 ]\n",
      " [-0.56283195  0.83348676]\n",
      " [ 0.96081094  0.31751894]\n",
      " [-0.75002264  0.73253818]\n",
      " [ 0.7719739   0.66726571]\n",
      " [ 0.21575098 -1.00133154]\n",
      " [ 0.01453836 -0.48910347]\n",
      " [-0.39494708  0.27026715]\n",
      " [-0.37921446 -0.35256011]\n",
      " [-0.25161159  1.04395935]\n",
      " [-0.14131277  0.98849915]\n",
      " [-0.63637555 -0.7417178 ]\n",
      " [-0.91112118  0.44602825]\n",
      " [ 0.5252734  -0.01038005]]\n"
     ]
    }
   ],
   "source": [
    "# Exploring datasets\n",
    "import h5py\n",
    "\n",
    "# load h5py file\n",
    "def load_h5py(filename):\n",
    "        with h5py.File(filename, 'r') as hf: \n",
    "             global X\n",
    "             X = hf['x'][:]\n",
    "             global Y\n",
    "             Y = hf['y'][:]   \n",
    "            \n",
    "load_h5py('data_1.h5')\n",
    "print(X)"
   ]
  },
  {
   "cell_type": "code",
   "execution_count": 35,
   "metadata": {},
   "outputs": [],
   "source": [
    "# Splitting the dataset into the Training set and Test set\n",
    "from sklearn.model_selection import train_test_split\n",
    "X_train, X_test, Y_train, Y_test = train_test_split(X, Y, test_size=0.30, random_state=0)"
   ]
  },
  {
   "cell_type": "code",
   "execution_count": 36,
   "metadata": {},
   "outputs": [
    {
     "data": {
      "text/plain": [
       "LogisticRegression(C=1.0, class_weight=None, dual=False, fit_intercept=True,\n",
       "          intercept_scaling=1, max_iter=100, multi_class='ovr', n_jobs=1,\n",
       "          penalty='l2', random_state=0, solver='liblinear', tol=0.0001,\n",
       "          verbose=0, warm_start=False)"
      ]
     },
     "execution_count": 36,
     "metadata": {},
     "output_type": "execute_result"
    }
   ],
   "source": [
    "# Fitting Logistic Regression to the Training set\n",
    "from sklearn.linear_model import LogisticRegression\n",
    "classifier = LogisticRegression(random_state=0)\n",
    "classifier.fit(X_train, Y_train)"
   ]
  },
  {
   "cell_type": "code",
   "execution_count": 37,
   "metadata": {},
   "outputs": [
    {
     "name": "stdout",
     "output_type": "stream",
     "text": [
      "[1 1 1 1 0 1 1 1 1 1 1 1 1 0 1 0 1 1 1 1 1 1 0 1 1 1 1 1 1 1]\n"
     ]
    }
   ],
   "source": [
    "# Predicting the Test set results\n",
    "Y_pred = classifier.predict(X_test)\n",
    "print(Y_pred)\n",
    "# y-test: ground truth, y-pred: predicted results"
   ]
  },
  {
   "cell_type": "code",
   "execution_count": 40,
   "metadata": {},
   "outputs": [
    {
     "name": "stdout",
     "output_type": "stream",
     "text": [
      "0.5666666666666667\n",
      "[1 0 0 0 0 1 0 1 0 0 1 1 0 0 1 0 1 0 0 1 1 0 0 1 1 0 1 1 0 0]\n",
      "[1 1 1 1 0 1 1 1 1 1 1 1 1 0 1 0 1 1 1 1 1 1 0 1 1 1 1 1 1 1]\n"
     ]
    }
   ],
   "source": [
    "from sklearn.metrics import accuracy_score\n",
    "print(accuracy_score(Y_test, Y_pred))\n",
    "print(Y_test)\n",
    "print(Y_pred)"
   ]
  },
  {
   "cell_type": "code",
   "execution_count": 51,
   "metadata": {},
   "outputs": [
    {
     "name": "stdout",
     "output_type": "stream",
     "text": [
      "precison=\n",
      "0.5\n"
     ]
    }
   ],
   "source": [
    "from sklearn.metrics import precision_score\n",
    "print('precison=')\n",
    "print(precision_score(Y_test, Y_pred))"
   ]
  },
  {
   "cell_type": "code",
   "execution_count": 62,
   "metadata": {},
   "outputs": [
    {
     "name": "stdout",
     "output_type": "stream",
     "text": [
      "recall=\n",
      "1.0\n"
     ]
    }
   ],
   "source": [
    "from sklearn.metrics import recall_score\n",
    "print('recall=')\n",
    "print(recall_score(Y_test, Y_pred))"
   ]
  },
  {
   "cell_type": "code",
   "execution_count": 64,
   "metadata": {},
   "outputs": [
    {
     "name": "stdout",
     "output_type": "stream",
     "text": [
      "dataset name= data_1.h5\n",
      "Model=logistic regration\n",
      "Accuracy=\n",
      "0.5666666666666667\n",
      "precison=\n",
      "0.5\n",
      "recall=\n",
      "1.0\n"
     ]
    }
   ],
   "source": [
    "print('dataset name= data_1.h5')\n",
    "print('Model=logistic regration')\n",
    "print('Accuracy=')\n",
    "print(accuracy_score(Y_test, Y_pred))\n",
    "print('precison=')\n",
    "print(precision_score(Y_test, Y_pred))\n",
    "print('recall=')\n",
    "print(recall_score(Y_test, Y_pred))"
   ]
  },
  {
   "cell_type": "code",
   "execution_count": null,
   "metadata": {},
   "outputs": [],
   "source": []
  }
 ],
 "metadata": {
  "kernelspec": {
   "display_name": "Python 3",
   "language": "python",
   "name": "python3"
  },
  "language_info": {
   "codemirror_mode": {
    "name": "ipython",
    "version": 3
   },
   "file_extension": ".py",
   "mimetype": "text/x-python",
   "name": "python",
   "nbconvert_exporter": "python",
   "pygments_lexer": "ipython3",
   "version": "3.6.5"
  }
 },
 "nbformat": 4,
 "nbformat_minor": 2
}
