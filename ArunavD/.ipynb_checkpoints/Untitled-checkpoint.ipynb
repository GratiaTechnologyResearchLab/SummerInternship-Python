{
 "cells": [
  {
   "cell_type": "code",
   "execution_count": 3,
   "metadata": {},
   "outputs": [],
   "source": []
  },
  {
   "cell_type": "code",
   "execution_count": 47,
   "metadata": {},
   "outputs": [
    {
     "name": "stdout",
     "output_type": "stream",
     "text": [
      "hello dr. adam, how are you? i hope everything is going well. today is a good day, see you dude.\n",
      "['hello dr', ' adam, how are you? i hope everything is going well', ' today is a good day, see you dude', '']\n"
     ]
    }
   ],
   "source": [
    "newlist=[]\n",
    "list1=['.','?']\n",
    "mytext = \"Hello Dr. Adam, how are you? I hope everything is going well. Today is a good day, see you dude.\"\n",
    "m=mytext.lower()\n",
    "print(m)\n",
    "newlist=m.split('.')\n",
    "print(newlist)"
   ]
  },
  {
   "cell_type": "code",
   "execution_count": null,
   "metadata": {},
   "outputs": [],
   "source": []
  },
  {
   "cell_type": "code",
   "execution_count": null,
   "metadata": {},
   "outputs": [],
   "source": []
  }
 ],
 "metadata": {
  "kernelspec": {
   "display_name": "Python 3",
   "language": "python",
   "name": "python3"
  },
  "language_info": {
   "codemirror_mode": {
    "name": "ipython",
    "version": 3
   },
   "file_extension": ".py",
   "mimetype": "text/x-python",
   "name": "python",
   "nbconvert_exporter": "python",
   "pygments_lexer": "ipython3",
   "version": "3.6.5"
  }
 },
 "nbformat": 4,
 "nbformat_minor": 2
}
